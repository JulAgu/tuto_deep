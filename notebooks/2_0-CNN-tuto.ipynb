{
 "cells": [
  {
   "cell_type": "markdown",
   "metadata": {},
   "source": [
    "# Réseaux convolutionnels pour le traitement de l'image \n",
    "\n",
    "\n",
    "## Partie A : Prise en main des CNN, introspection\n",
    "\n",
    "Vincent Guigue\n",
    "\n",
    "[directement inspiré de:]\n",
    "Nicolas Baskiotis (nicolas.baskiotis@soronne-univeriste.fr) Benjamin Piwowarski (benjamin.piwowarski@sorbonne-universite.fr) -- MLIA/ISIR, Sorbonne Université"
   ]
  },
  {
   "cell_type": "markdown",
   "metadata": {},
   "source": [
    "Les objectifs de ce module sont :\n",
    "* Prise en main des réseaux convolutionnels (CNN)\n",
    "* Apprentissage d'un CNN\n",
    "* Introspection d'un CNN\n",
    "\n",
    "Nous travaillerons dans un premier temps avec les données MNIST puis avec le jeu de données CIFAR d'images de 10 classes."
   ]
  },
  {
   "cell_type": "code",
   "execution_count": null,
   "metadata": {
    "id": "OQfQDwsPAGpM"
   },
   "outputs": [],
   "source": [
    "from tqdm import tqdm\n",
    "import numpy as np\n",
    "import matplotlib.pyplot as plt\n",
    "\n",
    "import torch\n",
    "from torch import nn\n",
    "from torch.nn import functional as F\n",
    "from torch import optim\n",
    "from torch.utils.data import TensorDataset, DataLoader,Dataset,random_split\n",
    "\n",
    "import time\n",
    "import os\n"
   ]
  },
  {
   "cell_type": "markdown",
   "metadata": {},
   "source": [
    "### Prise en main du module sur un exemple jouet"
   ]
  },
  {
   "cell_type": "code",
   "execution_count": null,
   "metadata": {},
   "outputs": [],
   "source": [
    "x = torch.tensor([float(i) for i in range (25)]).view(5,5)\n",
    "print(x)\n",
    "\n",
    "conv = nn.Conv2d(in_channels=1, out_channels=1, kernel_size=2, bias=False) # 1 seul filtre, sans biais pour bien maitriser\n",
    "# note 1: normalement, on laisse TOUJOURS le biais\n",
    "# initialisation à la main pour tester (la procédure normale consiste à laisser l'init aléatoire)\n",
    "poids = torch.tensor([[[[1., 2.],[1., 1.]]]])\n",
    "conv.weight = nn.Parameter(poids)\n",
    "\n",
    "print(\"out :\", conv(x.unsqueeze(0)))\n",
    "\n",
    "print(\"filtre : \", conv.weight)\n",
    "\n",
    "# explication de la première sortie (= 13)\n",
    "print(\"calcul à la main: \", (x[:2,:2] * poids).sum())"
   ]
  },
  {
   "cell_type": "code",
   "execution_count": null,
   "metadata": {},
   "outputs": [],
   "source": [
    "# si on veut ajouter du padding => tout autour => une dimension de plus en sortie\n",
    "\n",
    "conv = nn.Conv2d(in_channels=1, out_channels=1, kernel_size=2, bias=False,padding=1, padding_mode='zeros') # 1 seul filtre, sans biais pour bien maitriser\n",
    "# initialisation à la main pour tester (la procédure normale consiste à laisser l'init aléatoire)\n",
    "poids = torch.tensor([[[[1., 2.],[1., 1.]]]])\n",
    "conv.weight = nn.Parameter(poids)\n",
    "\n",
    "print(\"out :\", conv(x.unsqueeze(0)))"
   ]
  },
  {
   "cell_type": "code",
   "execution_count": null,
   "metadata": {},
   "outputs": [],
   "source": [
    "# jouer avec les pas de déplacement de la fenêtre (stride = PAS)\n",
    "\n",
    "conv = nn.Conv2d(in_channels=1, out_channels=1, kernel_size=2, bias=False, stride = 2) # 1 seul filtre, sans biais pour bien maitriser\n",
    "# initialisation à la main pour tester (la procédure normale consiste à laisser l'init aléatoire)\n",
    "poids = torch.tensor([[[[1., 2.],[1., 1.]]]])\n",
    "conv.weight = nn.Parameter(poids)\n",
    "\n",
    "print(\"out :\", conv(x.unsqueeze(0)))\n"
   ]
  },
  {
   "cell_type": "code",
   "execution_count": null,
   "metadata": {},
   "outputs": [],
   "source": [
    "# DILATATION - jouer avec les pas de déplacement de la fenêtre (dilation = filtre intermittent)\n",
    "\n",
    "conv = nn.Conv2d(in_channels=1, out_channels=1, kernel_size=2, bias=False, dilation = 2) # 1 seul filtre, sans biais pour bien maitriser\n",
    "# initialisation à la main pour tester (la procédure normale consiste à laisser l'init aléatoire)\n",
    "poids = torch.tensor([[[[1., 2.],[1., 1.]]]])\n",
    "conv.weight = nn.Parameter(poids)\n",
    "\n",
    "print(\"out :\", conv(x.unsqueeze(0)))\n"
   ]
  }
 ],
 "metadata": {
  "kernelspec": {
   "display_name": "torch-nightly",
   "language": "python",
   "name": "python3"
  },
  "language_info": {
   "codemirror_mode": {
    "name": "ipython",
    "version": 3
   },
   "file_extension": ".py",
   "mimetype": "text/x-python",
   "name": "python",
   "nbconvert_exporter": "python",
   "pygments_lexer": "ipython3",
   "version": "3.8.15 (default, Nov 24 2022, 09:04:07) \n[Clang 14.0.6 ]"
  },
  "orig_nbformat": 4,
  "vscode": {
   "interpreter": {
    "hash": "0539fa28f95d3c31ab10ef7831d62bf0e47751f442c28c9f64a267247464e7da"
   }
  }
 },
 "nbformat": 4,
 "nbformat_minor": 2
}
