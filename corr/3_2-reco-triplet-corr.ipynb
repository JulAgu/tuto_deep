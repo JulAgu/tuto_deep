{
  "cells": [
    {
      "cell_type": "markdown",
      "metadata": {
        "id": "cf943d4c-ac09-42ad-b098-db274b1d414e"
      },
      "source": [
        "#  Apprentissage de représentation et triplet loss\n",
        "\n",
        "Vincent Guigue\n",
        "\n",
        "Enoncé dérivé de celui de Nicolas Baskiotis (nicolas.baskiotis@sorbonne-universite.fr) -- MLIA/ISIR, Sorbonne Université"
      ]
    },
    {
      "cell_type": "markdown",
      "metadata": {
        "id": "zkA5bY4bdmM9"
      },
      "source": [
        "Importation des modules nécessaires et configuration de torch/tensorboard"
      ]
    },
    {
      "cell_type": "code",
      "execution_count": 6,
      "metadata": {
        "id": "ZlMylH6fdZXO"
      },
      "outputs": [],
      "source": [
        "import csv\n",
        "import numpy as np\n",
        "from collections import Counter\n",
        "import copy\n",
        "import torch\n",
        "import torch.nn as nn\n",
        "from torch.utils.data import DataLoader, Dataset\n",
        "from random import shuffle\n",
        "from torch import optim\n",
        "from torch.utils.tensorboard import SummaryWriter\n",
        "import matplotlib.pyplot as plt\n",
        "import seaborn as sns\n",
        "from tensorboard import notebook"
      ]
    },
    {
      "cell_type": "code",
      "execution_count": null,
      "metadata": {
        "id": "FtdCHwUTjLHy"
      },
      "outputs": [],
      "source": [
        "\n",
        "device = 'cuda:0' if torch.cuda.is_available() else 'cpu'\n",
        "%load_ext tensorboard\n",
        "%tensorboard --logdir runs\n",
        "\n",
        "writer = SummaryWriter()"
      ]
    },
    {
      "cell_type": "markdown",
      "metadata": {
        "id": "a71eb410-57c8-4ba5-ad45-fb80563e97c6"
      },
      "source": [
        "# Jeu de données de recommandation\n",
        "Ce jeu de données est issu d'un célèbre site sur les jeux de société. Il contient les fichiers suivants :\n",
        "\n",
        "\n",
        "*   `users.csv `: liste des utilisateurs et de leur identifiant sous la forme `(nickname, id)`\n",
        "*   `jeux.csv` : liste des jeux et de leur identifiant sous la forme `(id, titre, titre complet, résumé, catégories, âge)`\n",
        "* `avis.csv` : liste des avis sous la forme `(id,id_jeu,id_user,titre, nickname, date, note, titre commentaire, commentaire)`\n",
        "\n",
        "Dans cette première partie, nous allons nous intéresser uniquement aux notes données aux jeux par les utilisateurs, sans regarder le contenu. L'objectif est de prédire la note qu'un utilisateur donne à un jeu. Ce problème peut être vu comme de la régression sur la note ou comme un problème de classification multi-classes en discrétisant la note.\n",
        "\n",
        "\n",
        "\n"
      ]
    },
    {
      "cell_type": "markdown",
      "metadata": {
        "id": "XJsBVeI3i_FO"
      },
      "source": [
        "On installe tout d'abord les données sur le colab."
      ]
    },
    {
      "cell_type": "code",
      "execution_count": null,
      "metadata": {
        "id": "KgmBm4G5gxQ5"
      },
      "outputs": [],
      "source": [
        "# pour Colab (cf ci-dessous pour travailler en local)\n",
        "\n",
        "# ## Télécharger le fichier donnees_jds.zip dans votre google drive\n",
        "# from google.colab import drive\n",
        "# drive.mount('/content/drive/',force_remount=True)\n",
        "# ## Changer le PATH vers le fichier de données\n",
        "# PATH = \"/content/drive/MyDrive/data/data_jds/\"\n",
        "# # On décompresse le fichier, les fichiers seront au niveau de /content\n",
        "# !unzip $PATH\"donnees_jds.zip\""
      ]
    },
    {
      "cell_type": "code",
      "execution_count": null,
      "metadata": {},
      "outputs": [],
      "source": [
        "# local\n",
        "PATH = \"data/donnees_jds/\""
      ]
    },
    {
      "cell_type": "markdown",
      "metadata": {
        "id": "33WTifJXeVcN"
      },
      "source": [
        "Nous allons dans un premier temps filtrer les données pour ne garder que des utilisateurs et des jeux ayant suffisament de notes.\n",
        "\n",
        "**Note:** on se rend vite compte que ce filtrage n'est pas si évident (le nb de revues par objet dépend des auteurs et vice et versa). On procède de manière itérative, jusqu'à convergence."
      ]
    },
    {
      "cell_type": "code",
      "execution_count": null,
      "metadata": {
        "id": "UXjUftoQeSwI"
      },
      "outputs": [],
      "source": [
        "\n",
        "def filtre(data,ths_g,ths_u):\n",
        "    \"\"\" filtre les données pour ne garder que des jeux ayant plus de ths_g notes et des users avec plus de ths_u avis \"\"\"\n",
        "    lu, lg, ld = 0, 0, len(data)\n",
        "    old_lu, old_lg = 1,1\n",
        "    i = 0\n",
        "    while lu != old_lu or lg != old_lg:\n",
        "        rawg = Counter([x[1] for x in data])\n",
        "        rawu = Counter([x[2] for x in data])\n",
        "        old_lu = lu\n",
        "        old_lg = lg\n",
        "        ld = len(data)\n",
        "        lg = len(rawg)\n",
        "        lu = len(rawu)\n",
        "        print(f\"Boucle {i} : Nb games : {lg}, Nb Users : {lu}, sparsity : {ld/(lg*lu)}\")\n",
        "        filtre_g = [k for k,v in rawg.items() if v>ths_g]\n",
        "        filtre_u = [k for k,v in rawu.items() if v>ths_u]\n",
        "        data = [x for x in data if x[1] in filtre_g and x[2] in filtre_u]\n",
        "        i = i +1\n",
        "    return data\n"
      ]
    },
    {
      "cell_type": "code",
      "execution_count": null,
      "metadata": {
        "id": "MWYbr5Lael2z"
      },
      "outputs": [],
      "source": [
        "#Lecture des données (google colab)\n",
        "# dataraw = [x for x in csv.reader(open(\"./avis.csv\"))]\n",
        "# dic_jeux = dict([(int(x[0]),x[2]) for x in csv.reader(open(\"./jeux.csv\"))])\n",
        "dataraw = [x for x in csv.reader(open(PATH+\"avis.csv\"))]\n",
        "dic_jeux = dict([(int(x[0]),x[2]) for x in csv.reader(open(PATH+\"jeux.csv\"))])\n",
        "# Filtrage des données\n",
        "data_dense = [(int(x[1]),int(x[2]),float(x[6])) for x in filtre(dataraw,30,30)] # on peut jouer avec le filtre\n"
      ]
    },
    {
      "cell_type": "markdown",
      "metadata": {
        "id": "epLplVu1kGS5"
      },
      "source": [
        "On observe rapidement les caractéristiques du jeu de données restant"
      ]
    },
    {
      "cell_type": "code",
      "execution_count": null,
      "metadata": {
        "id": "K3KIaAp-jINF"
      },
      "outputs": [],
      "source": [
        "# Histogramme des notes\n",
        "sns.violinplot([x[2] for x in data_dense])"
      ]
    },
    {
      "cell_type": "code",
      "execution_count": null,
      "metadata": {
        "id": "lZWFroIHjdzN"
      },
      "outputs": [],
      "source": [
        "#Histogramme des votes/jeu\n",
        "sns.histplot(Counter([x[0] for x in data_dense]).values())"
      ]
    },
    {
      "cell_type": "code",
      "execution_count": null,
      "metadata": {
        "id": "AJ-eHVBAj-X-"
      },
      "outputs": [],
      "source": [
        "#Histogramme des votes/user\n",
        "sns.histplot(Counter([x[1] for x in data_dense]).values())"
      ]
    },
    {
      "cell_type": "markdown",
      "metadata": {
        "id": "HBHPA45Hf03U"
      },
      "source": [
        "Nous allons définir le dataloader pour ces données."
      ]
    },
    {
      "cell_type": "code",
      "execution_count": null,
      "metadata": {
        "id": "hJGnstcsf0MX"
      },
      "outputs": [],
      "source": [
        "\n",
        "class RecoDataset:\n",
        "    def __init__(self,data):\n",
        "        \"\"\" data : (game, user, note) \"\"\"\n",
        "        self.data = data\n",
        "    def __getitem__(self,i):\n",
        "        return self.data[i][0],self.data[i][1],self.data[i][2]\n",
        "    def __len__(self):\n",
        "        return len(self.data)\n",
        "\n",
        "\n",
        "def prepare_dataloaders(data,split=0.8,note_min=0,note_max=11):\n",
        "    \"\"\"\n",
        "        Normalise les notes entre 0 et 1\n",
        "        Split le dataset en split/1-split. Stratifié par utilisateur\n",
        "        data : (game,user,note)\n",
        "        renvoie les datasets de train, de test, et les correspondances entre index et jeux/utilisateurs\n",
        "    \"\"\"\n",
        "    idx2games = list(set(x[0] for x in data))\n",
        "    idx2users = list(set(x[1] for x in data))\n",
        "    users2idx = dict(zip(idx2users,range(len(idx2users))))\n",
        "    games2idx = dict(zip(idx2games,range(len(idx2games))))\n",
        "    users_notes = dict(zip(range(len(idx2users)), [list() for x in range(len(idx2users))]))\n",
        "    for (g,u,n)  in data:\n",
        "        users_notes[users2idx[u]].append((games2idx[g],n))\n",
        "    train_triplets = []\n",
        "    test_triplets = []\n",
        "    for u,notes in users_notes.items():\n",
        "        shuffle(notes)\n",
        "        train_triplets.extend([(g,u,((n-note_min)/(note_max-note_min))) for (g,n) in notes[:int(split*len(notes))]])\n",
        "        test_triplets.extend([(g,u,((n-note_min)/(note_max-note_min))) for (g,n) in notes[int(split*len(notes)):]])\n",
        "    dtrain = RecoDataset(train_triplets)\n",
        "    dtest = RecoDataset(test_triplets)\n",
        "    return dtrain,dtest,idx2games,idx2users\n",
        "\n"
      ]
    },
    {
      "cell_type": "markdown",
      "metadata": {
        "id": "A4uCLnKEkaBg"
      },
      "source": [
        "Et on construit les dataloaders pour pouvoir travailler."
      ]
    },
    {
      "cell_type": "code",
      "execution_count": null,
      "metadata": {
        "id": "i8IjbXL_hh-_"
      },
      "outputs": [],
      "source": [
        "dtrain,dtest, idx2games, idx2users = prepare_dataloaders( data_dense)\n",
        "dl_train = DataLoader(dtrain,batch_size=128,shuffle=True)\n",
        "dl_test = DataLoader(dtest, batch_size=128)\n",
        "dataloaders = {\"train\":dl_train,\"test\":dl_test}\n",
        "\n"
      ]
    },
    {
      "cell_type": "markdown",
      "metadata": {
        "id": "ZsY3qRadkk5P"
      },
      "source": [
        "Il ne reste plus qu'à définir un modèle pour la prédiction de notes. L'architecture est très simple :\n",
        "\n",
        "\n",
        "*   Une couche d'embedding pour les users de dimension $l$\n",
        "*   Une couche d'embedding pour les jeux de dimension $l$\n",
        "* Les sorties de ces deux couches sont concaténées pour former un vecteur de taille $2*\\ell$. Ce vecteur est ensuite passé à un MLP, qui possède $2*\\ell$ entrées et une sortie (la note prédite) (la couche intermédiaire sera prise arbitrairement de taille $\\ell$).\n",
        "\n",
        "PyTorch fournit le module [`nn.Embedding`](https://pytorch.org/docs/stable/generated/torch.nn.Embedding.html) pour définir la couche de représentation.\n",
        "\n"
      ]
    },
    {
      "cell_type": "code",
      "execution_count": null,
      "metadata": {
        "id": "l7KVnt2YkeW0"
      },
      "outputs": [],
      "source": [
        "\n",
        "class RecoRegNet(nn.Module):\n",
        "    def __init__(self,n_games,n_users,latent_dim=50,act=nn.Tanh):\n",
        "        super().__init__()\n",
        "        # A compléter\n",
        "        # <CORRECTION>\n",
        "        self.users = nn.Embedding(n_users, latent_dim)\n",
        "        self.games = nn.Embedding(n_games, latent_dim)\n",
        "\n",
        "        self.lin1 = nn.Linear(2*latent_dim, latent_dim) # arbitraire\n",
        "        self.lin2 = nn.Linear(latent_dim, 1)\n",
        "        \n",
        "        self.net = nn.Sequential(self.lin1, act(), self.lin2)\n",
        "        # </CORRECTION>\n",
        "        pass\n",
        "    def forward(self,igames,iusers):\n",
        "        # A compléter\n",
        "        # <CORRECTION>\n",
        "        x = torch.cat((self.games(igames), self.users(iusers)), dim=1)\n",
        "        # print(x.size())\n",
        "        return self.net(x)\n",
        "        # </CORRECTION>"
      ]
    },
    {
      "cell_type": "code",
      "execution_count": null,
      "metadata": {},
      "outputs": [],
      "source": [
        "# tenter de faire passer l'utilisateur 0 + item 0\n",
        "\n",
        "reco = RecoRegNet(10, 10)\n",
        "\n",
        "i = torch.tensor(0).unsqueeze(0)\n",
        "u = torch.tensor(0).unsqueeze(0)\n",
        "\n",
        "print(reco(i, u)) # sortie arbitraire : c'est pour verifier "
      ]
    },
    {
      "cell_type": "markdown",
      "metadata": {
        "id": "5J5gJruKliap"
      },
      "source": [
        "Une boucle d'apprentissage très classique pour apprendre le réseau"
      ]
    },
    {
      "cell_type": "code",
      "execution_count": null,
      "metadata": {
        "id": "UFjJ5Z4Dlekq"
      },
      "outputs": [],
      "source": [
        "\n",
        "\n",
        "def train(model, dataloaders, loss,nb_epochs=100,lr=1e-3,early_stop=5):\n",
        "    \"\"\" Boucle d'apprentissage :\n",
        "      * model : modèle à apprendre\n",
        "      * dataloaders : dictionnaire {'train': dataloader de train, 'test' : dataloader de test}\n",
        "      * loss : le coût à optimiser\n",
        "      * nb_epochs : le nombre d'époques\n",
        "      * lr : le learning rate initial\n",
        "      * early_stop : combien d'époques sans améliorations pour s'arrêter\n",
        "    Renvoie le meilleur modèle (selon le dataloader de test)\n",
        "    \"\"\"\n",
        "\n",
        "    model = model.to(device)\n",
        "    opt = optim.Adam(model.parameters(),lr=lr)\n",
        "    # Meilleure loss pour le early stopping\n",
        "    best_l = 1e5\n",
        "    # Compteur d'époques sans améliorations\n",
        "    cpt_early = 0\n",
        "    for epoch in range(nb_epochs):\n",
        "        # On alterne l'évaluation et l'apprentissage\n",
        "        for phase in ['test','train']:\n",
        "            # Coût cumlulé sur tout les exemples\n",
        "            cum_loss = 0\n",
        "            # Accumulateurs des predictions et des vraies notes pour le tracé d'histogramme\n",
        "            all_notes = []\n",
        "            all_ground = []\n",
        "            for games,users,notes in dataloaders[phase]:\n",
        "                # équivalent a with torch.no_grad() pour la phase de test\n",
        "                with torch.set_grad_enabled(phase=='train'):\n",
        "                    # Nécessaire si Dropout ou autres régularisation\n",
        "                    if phase==\"train\":\n",
        "                        model.train()\n",
        "                    else:\n",
        "                        model.eval()\n",
        "                    # Prédiction du batch courant\n",
        "                    yhat = model(games.to(device),users.to(device))\n",
        "                    all_notes.extend(yhat.view(-1).tolist())\n",
        "                    all_ground.extend(notes.view(-1).tolist())\n",
        "                    # Calcul du coût\n",
        "                    l = loss(yhat.view(-1),notes.float().to(device).view(-1))\n",
        "                    # Mise à zéro du gradient\n",
        "                    opt.zero_grad()\n",
        "                    if phase==\"train\":\n",
        "                        # Rétro-propagation\n",
        "                        l.backward()\n",
        "                        opt.step()\n",
        "                    cum_loss += l.item()\n",
        "            writer.add_scalar(f\"loss/{phase}\",cum_loss/len(dataloaders[phase]),epoch)\n",
        "            writer.add_histogram(f\"{phase}/pred\", torch.tensor(all_notes),epoch)\n",
        "            writer.add_histogram(f\"{phase}/ground\", torch.tensor(all_ground),epoch)\n",
        "            print(f\"Phase {phase} : {epoch}/{nb_epochs} {cum_loss/len(dataloaders[phase])}\")\n",
        "            # On compare le meilleur modèle à celui de l'itération courante\n",
        "            # Si meilleur, on sauvegarde\n",
        "            if phase != \"train\":\n",
        "                if best_l>cum_loss/len(dataloaders[phase]):\n",
        "                    best_l = cum_loss/len(dataloaders[phase])\n",
        "                    best_model = copy.deepcopy(model.state_dict())\n",
        "                    print(f\"Best model at epoch {epoch} : {best_l}\")\n",
        "                    early_cpt = 0\n",
        "                else:\n",
        "                    early_cpt += 1\n",
        "        model.eval()\n",
        "        if early_cpt >early_stop:\n",
        "            break\n",
        "    # On récupère le meilleur modèle\n",
        "    model.load_state_dict(best_model)\n",
        "    return model"
      ]
    },
    {
      "cell_type": "markdown",
      "metadata": {
        "id": "4-oHwbAgnKzl"
      },
      "source": [
        "On définit le modèle et le coût."
      ]
    },
    {
      "cell_type": "code",
      "execution_count": null,
      "metadata": {
        "id": "0QCF6NnbnHaJ"
      },
      "outputs": [],
      "source": [
        "loss = nn.MSELoss()\n",
        "model = RecoRegNet(len(idx2games),len(idx2users),latent_dim=25)\n",
        "notebook.display()"
      ]
    },
    {
      "cell_type": "markdown",
      "metadata": {
        "id": "4LI8sK8MnQ3K"
      },
      "source": [
        "On apprend le modèle.\n",
        "\n"
      ]
    },
    {
      "cell_type": "code",
      "execution_count": null,
      "metadata": {
        "id": "5GSj64o_nSIy"
      },
      "outputs": [],
      "source": [
        "train(model,dataloaders,loss)"
      ]
    },
    {
      "cell_type": "markdown",
      "metadata": {},
      "source": [
        "## Visualisation des embeddings avec TSNE\n",
        "\n",
        "Une des meilleures implémentation de TSNE est disponible dans tensorboard!\n",
        "\n",
        "1. Ajouter les embeddings\n",
        "2. Sélectionner Projector\n",
        "3. Jouer avec les options"
      ]
    },
    {
      "cell_type": "code",
      "execution_count": null,
      "metadata": {},
      "outputs": [],
      "source": [
        "model.games.weight.size()"
      ]
    },
    {
      "cell_type": "code",
      "execution_count": null,
      "metadata": {
        "id": "RNmhJ9rgnfTP"
      },
      "outputs": [],
      "source": [
        "writer.add_embedding(model.games.weight,metadata=[dic_jeux[idx2games[x]] for x in range(len(idx2games))])\n",
        "#writer.add_embedding(model.games.weight)\n",
        "writer.flush()\n",
        "\n",
        "notebook.display()"
      ]
    },
    {
      "cell_type": "markdown",
      "metadata": {},
      "source": [
        "## Introduction de la triplet loss pour l'apprentissage\n",
        "\n"
      ]
    },
    {
      "cell_type": "markdown",
      "metadata": {},
      "source": [
        "Nous proposons l'exercice suivant:\n",
        "\n",
        "1. Générer des points 2D aléatoirement et uniformément répartis dans un espace (par exemple $[0,1]^2$)\n",
        "2. Associer une couleur aléatoire à chaque point sous la forme de 3 coordonnées dans $[0,1]$ (RGB)\n",
        "3. Afficher les points coloré avec un scatter plot\n",
        "4. Construire un index des points plutot vert ou pas vert (avec un seuil). Faire de même pour le rouge, et le bleu\n",
        "5. Sur la base du modèle fourni en début de TP, construire un dataloader qui donne 2 points plutot dans la couleur et 1 à l'opposé\n",
        "6. Construire une fonction d'apprentissage qui exploite la *triplet loss* pour structurer notre espace (faire bouger les coordonnées des points)\n",
        "7. Visualiser le résultat"
      ]
    },
    {
      "cell_type": "code",
      "execution_count": 243,
      "metadata": {},
      "outputs": [
        {
          "data": {
            "image/png": "[encoded data removed]",
            "text/plain": [
              "<Figure size 640x480 with 1 Axes>"
            ]
          },
          "metadata": {},
          "output_type": "display_data"
        }
      ],
      "source": [
        "# exemple pour la génération de points colorés\n",
        "\n",
        "import matplotlib.pyplot as plt\n",
        "import numpy as np\n",
        "N = 50\n",
        "x = np.random.rand(N)\n",
        "y = np.random.rand(N)\n",
        "colors = np.random.rand(N,3)\n",
        "area = (30 * np.random.rand(N))**2  # 0 to 15 point radii\n",
        "\n",
        "plt.scatter(x, y, s=area, c=colors, alpha=0.5)\n",
        "plt.show()\n"
      ]
    },
    {
      "cell_type": "code",
      "execution_count": 251,
      "metadata": {},
      "outputs": [
        {
          "data": {
            "text/plain": [
              "<matplotlib.collections.PathCollection at 0x7fd3b9257df0>"
            ]
          },
          "execution_count": 251,
          "metadata": {},
          "output_type": "execute_result"
        },
        {
          "data": {
            "image/png": "[encoded data removed]",
            "text/plain": [
              "<Figure size 640x480 with 1 Axes>"
            ]
          },
          "metadata": {},
          "output_type": "display_data"
        }
      ],
      "source": [
        "\n",
        "# construire le même jeu en pytorch ou transferer les points en pytorch\n",
        "N = 100\n",
        "\n",
        "X = torch.rand(N,2)\n",
        "X.requires_grad = True\n",
        "C = torch.rand(N,3) # RGB\n",
        "\n",
        "# si X contient les coordonnées (N,2)\n",
        "# et C les couleurs (N,3)\n",
        "# la commande suivante fait l'affichage\n",
        "\n",
        "facile = True\n",
        "if facile:\n",
        "    # pour faire des données plus faciles : soit rouge, soit verte, soit bleu   \n",
        "    indc = C.argmax(1)\n",
        "    C2 = torch.zeros(N,3)\n",
        "    for i,j in enumerate(indc): C2[i,j]=1\n",
        "    C = C2\n",
        "\n",
        "plt.scatter(X[:,0].detach(), X[:,1].detach(), c=C.numpy(), alpha=0.5)\n"
      ]
    },
    {
      "cell_type": "code",
      "execution_count": 252,
      "metadata": {},
      "outputs": [],
      "source": [
        "# Construction d'un jeu données permettant de délivrer à chaque étape:\n",
        "# 1 point de référence\n",
        "# 1 point de la même couleur\n",
        "# un point aléatoire\n",
        "\n",
        "class ColorsDataset:\n",
        "    def __init__(self,data, colors, thres=0.4):\n",
        "        \"\"\" data : (game, user, note) \"\"\"\n",
        "        self.data = data\n",
        "        self.colors = colors\n",
        "        self.thres =thres\n",
        "\n",
        "        self.ired = colors[:,0]>1-thres\n",
        "        self.ired = self.ired.nonzero()\n",
        "        self.igreen = colors[:,1]>1-thres\n",
        "        self.igreen = self.igreen.nonzero()\n",
        "        self.iblue = colors[:,2]>1-thres\n",
        "        self.iblue = self.iblue.nonzero()\n",
        "\n",
        "        self.stat = []\n",
        "\n",
        "    def __getitem__(self,i):\n",
        "        # tirer une couleur\n",
        "        c = torch.rand(1).item()\n",
        "        # print(i)\n",
        "        if c<0.33:\n",
        "            ind1 = self.ired[i%len(self.ired)]\n",
        "            ind2 = self.ired[torch.randint(len(self.ired), (1,1)).item()]\n",
        "            # ind2 = self.ired[(i+1) %len(self.ired)]\n",
        "        elif c<0.66:\n",
        "            ind1 = self.igreen[i%len(self.igreen)]\n",
        "            ind2 = self.igreen[torch.randint(len(self.igreen), (1,1)).item()]\n",
        "            # ind2 = self.igreen[(i+1) %len(self.igreen)]\n",
        "        else:\n",
        "            ind1 = self.iblue[i%len(self.iblue)]\n",
        "            ind2 = self.iblue[torch.randint(len(self.iblue), (1,1)).item()]\n",
        "\n",
        "            # ind2 = self.iblue[(i+1) %len(self.iblue)]\n",
        "        ind3 = torch.randint(len(self.data), (1,1)).squeeze(0)\n",
        "        \n",
        "        self.stat += [ind1.item(), ind2.item(), ind3.item()]\n",
        "        # print(ind1, ind2, ind3)\n",
        "        return self.data[ind1][0],self.data[ind2][0],self.data[ind3][0] #, ind1, ind2, ind3\n",
        "    def __len__(self):\n",
        "        return len(self.data)\n"
      ]
    },
    {
      "cell_type": "code",
      "execution_count": 253,
      "metadata": {},
      "outputs": [
        {
          "name": "stdout",
          "output_type": "stream",
          "text": [
            "tensor([0.6260, 0.6733], grad_fn=<SelectBackward0>) tensor([0.5888, 0.2178], grad_fn=<SelectBackward0>) tensor([0.8727, 0.3500], grad_fn=<SelectBackward0>)\n",
            "torch.Size([2]) torch.Size([2]) torch.Size([2])\n"
          ]
        }
      ],
      "source": [
        "# Verification\n",
        "# 1. Construction de l'objet\n",
        "data = ColorsDataset(X,C)\n",
        "\n",
        "# 2. Tirage d'un triplet\n",
        "xr, xp, xn = data.__getitem__(0)\n",
        "print(xr, xp, xn, )\n",
        "print(xr.size(), xp.size(), xn.size() )"
      ]
    },
    {
      "cell_type": "code",
      "execution_count": 254,
      "metadata": {},
      "outputs": [
        {
          "data": {
            "image/png": "[encoded data removed]",
            "text/plain": [
              "<Figure size 640x480 with 1 Axes>"
            ]
          },
          "metadata": {},
          "output_type": "display_data"
        }
      ],
      "source": [
        "# affichage de la triplet loss\n",
        "\n",
        "def plotsc(X,G, C):\n",
        "    plt.scatter(X[:,0], X[:,1], c=C, alpha=0.5)\n",
        "    for i in range(len(X)):\n",
        "        if (G[i]**2).sum()>1e-3:\n",
        "            plt.quiver(X[i,0], X[i,1], -G[i,0], -G[i,1])\n",
        "\n",
        "# illustration de la triplet loss\n",
        "X.grad = torch.zeros(X.data.size())\n",
        "xr, xp, xn = data.__getitem__(0)\n",
        "delta = nn.TripletMarginLoss()(xr, xp, xn)\n",
        "delta.backward()\n",
        "\n",
        "with torch.no_grad():\n",
        "    plotsc(X.numpy(),X.grad.numpy(), C.numpy())\n",
        "    xr = xr.numpy()\n",
        "    plt.text(xr[0], xr[1], \"R\")\n",
        "    xp = xp.numpy()\n",
        "    plt.text(xp[0], xp[1], \"P\")\n",
        "    xn = xn.numpy()\n",
        "    plt.text(xn[0], xn[1], \"N\")"
      ]
    },
    {
      "cell_type": "code",
      "execution_count": 255,
      "metadata": {},
      "outputs": [
        {
          "name": "stdout",
          "output_type": "stream",
          "text": [
            "6.824611663818359\n",
            "6.821560084819794\n",
            "7.233619034290314\n",
            "6.62001246213913\n",
            "5.833608031272888\n",
            "6.67441713809967\n",
            "6.959836661815643\n",
            "6.998954355716705\n",
            "6.671408295631409\n",
            "6.5697513818740845\n",
            "6.87510347366333\n",
            "6.498931169509888\n",
            "6.793461084365845\n",
            "7.157708942890167\n",
            "5.854839563369751\n",
            "6.470203220844269\n",
            "6.21098667383194\n",
            "6.606140494346619\n",
            "6.3397088050842285\n",
            "6.2431968450546265\n",
            "5.656663537025452\n",
            "5.952399492263794\n",
            "6.028289258480072\n",
            "5.791051387786865\n",
            "5.803088009357452\n",
            "6.133070468902588\n",
            "5.775060772895813\n",
            "5.69376403093338\n",
            "5.784355342388153\n",
            "4.862757295370102\n",
            "5.178618967533112\n",
            "4.777871310710907\n",
            "4.718163013458252\n",
            "5.712758839130402\n",
            "4.719480603933334\n",
            "4.394628793001175\n",
            "4.333500027656555\n",
            "4.60982620716095\n",
            "3.7787649631500244\n",
            "3.8303763568401337\n",
            "3.991952568292618\n",
            "3.5549619048833847\n",
            "4.198534548282623\n",
            "4.158084571361542\n",
            "3.7451473623514175\n",
            "3.0147795230150223\n",
            "3.6201950311660767\n",
            "3.752284437417984\n",
            "3.3965961933135986\n",
            "3.6900596022605896\n",
            "4.055367887020111\n",
            "3.177272707223892\n",
            "3.7540064454078674\n",
            "3.009390413761139\n",
            "3.1125468611717224\n",
            "3.1954116225242615\n",
            "2.6994882225990295\n",
            "2.9481990039348602\n",
            "2.726193755865097\n",
            "2.8379456996917725\n",
            "2.5142855644226074\n",
            "3.0753383934497833\n",
            "2.1815070807933807\n",
            "3.6863104104995728\n",
            "2.9139042496681213\n",
            "3.2306478023529053\n",
            "2.9105005711317062\n",
            "2.227883219718933\n",
            "2.1123711615800858\n",
            "2.4959112107753754\n",
            "1.834770806133747\n",
            "2.1544710099697113\n",
            "2.732598692178726\n",
            "2.8579590022563934\n",
            "2.8675691187381744\n",
            "1.7854081690311432\n",
            "2.28436341881752\n",
            "2.6638100296258926\n",
            "2.7148973047733307\n",
            "1.756672441959381\n",
            "2.7672643065452576\n",
            "1.7276879772543907\n",
            "2.561154752969742\n",
            "2.8393132090568542\n",
            "2.34224496781826\n",
            "2.984667956829071\n",
            "2.3718709647655487\n",
            "2.313995823264122\n",
            "2.8634569495916367\n",
            "2.675014942884445\n",
            "2.1221823394298553\n",
            "2.4420487135648727\n",
            "2.1733507066965103\n",
            "2.2196505963802338\n",
            "1.7205807641148567\n",
            "2.143971085548401\n",
            "2.0132233649492264\n",
            "1.9793392717838287\n",
            "2.6101562678813934\n",
            "2.515185922384262\n",
            "1.827627569437027\n",
            "3.5364170968532562\n",
            "2.3162385374307632\n",
            "2.4398146867752075\n",
            "2.5063247680664062\n",
            "2.6860966458916664\n",
            "2.5076082795858383\n",
            "2.296872138977051\n",
            "2.2698673754930496\n",
            "2.238205388188362\n",
            "2.309957653284073\n",
            "2.156662955880165\n",
            "2.0687139332294464\n",
            "2.414623439311981\n",
            "3.290952116250992\n",
            "2.6118046045303345\n",
            "2.495753660798073\n",
            "2.113303482532501\n",
            "1.8028318285942078\n",
            "2.3697142601013184\n",
            "2.246712327003479\n",
            "3.150522083044052\n",
            "1.7035755291581154\n",
            "1.7070403695106506\n",
            "2.5158390402793884\n",
            "1.9170158132910728\n",
            "1.8382794857025146\n",
            "2.283338338136673\n",
            "2.184369444847107\n",
            "1.8248198926448822\n",
            "2.437184117734432\n",
            "2.422890618443489\n",
            "2.9021207690238953\n",
            "2.6257449835538864\n",
            "2.6303941756486893\n",
            "1.4927095174789429\n",
            "2.1288030594587326\n",
            "2.9083243012428284\n",
            "2.3586024343967438\n",
            "2.0963901579380035\n",
            "2.0157738476991653\n",
            "2.565545082092285\n",
            "2.035538472235203\n",
            "2.6827931702136993\n",
            "2.6103715002536774\n",
            "3.304110676050186\n",
            "1.8149286061525345\n",
            "2.5278720557689667\n",
            "2.593172937631607\n",
            "3.0063377916812897\n",
            "2.194046638906002\n",
            "2.3089026510715485\n",
            "2.878894180059433\n",
            "2.7906613051891327\n",
            "2.1480294913053513\n",
            "2.1878257989883423\n",
            "2.1267071068286896\n",
            "2.621549755334854\n",
            "1.9116163700819016\n",
            "2.596910759806633\n",
            "1.617642119526863\n",
            "2.23263581097126\n",
            "2.738726496696472\n",
            "1.9520856142044067\n",
            "2.267028734087944\n",
            "2.503935143351555\n",
            "2.1438301354646683\n",
            "2.2174851447343826\n",
            "2.2729036062955856\n",
            "2.9066478312015533\n",
            "2.1204898804426193\n",
            "2.8683796375989914\n",
            "2.5116579830646515\n",
            "2.440988078713417\n",
            "2.1300305277109146\n",
            "1.9070395231246948\n",
            "2.3760111033916473\n",
            "1.911236047744751\n",
            "2.101126343011856\n",
            "2.9031635522842407\n",
            "1.876836121082306\n",
            "2.429948464035988\n",
            "1.8293851166963577\n",
            "2.3955261409282684\n",
            "1.8988861218094826\n",
            "2.8967898041009903\n",
            "2.6142578423023224\n",
            "2.2642595916986465\n",
            "2.559806801378727\n",
            "3.4596466422080994\n",
            "2.671720638871193\n",
            "2.3231499791145325\n",
            "2.3548232465982437\n",
            "2.446211501955986\n",
            "2.2864486277103424\n",
            "2.3751512095332146\n",
            "2.6952941566705704\n",
            "2.700055181980133\n",
            "2.7088199257850647\n",
            "2.6105097234249115\n"
          ]
        }
      ],
      "source": [
        "# boucle d'apprentissage\n",
        "\n",
        "# Paramétrage\n",
        "dload = DataLoader(data, batch_size=16,shuffle=True)\n",
        "nb_epochs = 200\n",
        "lr=3e-1\n",
        "loss = nn.TripletMarginLoss()\n",
        "\n",
        "# Boucle d'apprentissage\n",
        "#   1. Tirer un batch\n",
        "#   2. Calculer la loss\n",
        "#   3. Retropropager\n",
        "#   4. MAJ (attention, il faut le faire sur toute la matrice... Mais laquelle?)\n",
        "#   5. Mise à Zero des gradients \n",
        "for epoch in range(nb_epochs):\n",
        "    # <CORRECTION>\n",
        "    like = 0\n",
        "    for xr, xp, xn in dload:\n",
        "        # print(xr.size(), xp.size(), xn.size())\n",
        "        # break\n",
        "        delta = loss(xr, xp, xn)\n",
        "        delta.backward()\n",
        "        # print(delta, X.grad.data)\n",
        "        like += delta.item()\n",
        "        \n",
        "        with torch.no_grad():\n",
        "            X -= lr*X.grad\n",
        "        \n",
        "        X.grad.zero_()\n",
        "    print(like)\n",
        "    # </CORRECTION>\n",
        "\n"
      ]
    },
    {
      "cell_type": "code",
      "execution_count": 234,
      "metadata": {},
      "outputs": [
        {
          "name": "stdout",
          "output_type": "stream",
          "text": [
            "60003\n",
            "[0, 36, 41, 20, 76, 59, 79, 2, 20, 72] 914\n"
          ]
        },
        {
          "data": {
            "text/plain": [
              "[<matplotlib.lines.Line2D at 0x7fd3da150640>]"
            ]
          },
          "execution_count": 234,
          "metadata": {},
          "output_type": "execute_result"
        },
        {
          "data": {
            "image/png": "[encoded data removed]",
            "text/plain": [
              "<Figure size 640x480 with 1 Axes>"
            ]
          },
          "metadata": {},
          "output_type": "display_data"
        }
      ],
      "source": [
        "# <CORRECTION>\n",
        "# verification des distributions de points\n",
        "from collections import Counter\n",
        "print(len(data.stat))\n",
        "\n",
        "c = Counter(data.stat)\n",
        "\n",
        "print(data.stat[:10], c[0])\n",
        "plt.plot(c.keys(),c.values(), '+')\n",
        "# </CORRECTION>\n"
      ]
    },
    {
      "cell_type": "code",
      "execution_count": 256,
      "metadata": {},
      "outputs": [
        {
          "data": {
            "text/plain": [
              "<matplotlib.collections.PathCollection at 0x7fd3b91df460>"
            ]
          },
          "execution_count": 256,
          "metadata": {},
          "output_type": "execute_result"
        },
        {
          "data": {
            "image/png": "[encoded data removed]",
            "text/plain": [
              "<Figure size 640x480 with 1 Axes>"
            ]
          },
          "metadata": {},
          "output_type": "display_data"
        },
        {
          "ename": "",
          "evalue": "",
          "output_type": "error",
          "traceback": [
            "\u001b[1;31mLe Kernel s’est bloqué lors de l’exécution du code dans la cellule active ou une cellule précédente. Veuillez vérifier le code dans la ou les cellules pour identifier une cause possible de l’échec. Cliquez <a href='https://aka.ms/vscodeJupyterKernelCrash'>ici</a> pour plus d’informations. Pour plus d’informations, consultez Jupyter <a href='command:jupyter.viewOutput'>log</a>."
          ]
        }
      ],
      "source": [
        "# vérification graphique\n",
        "\n",
        "plt.scatter(X[:,0].detach(), X[:,1].detach(), c=C.numpy(), alpha=0.5)\n",
        " "
      ]
    },
    {
      "cell_type": "markdown",
      "metadata": {},
      "source": [
        "## Multi-loss et amélioration des profils\n",
        "\n",
        "Les profils doivent encoder les informations discriminantes des produits et des utilisateurs pour modéliser les affinités. Dans les algorithmes vus précedemment, nous avons encodé les traces utilisateurs algorithmes de *collaborative filtering*). L'enjeu est maintenant d'exploiter des outils supplémentaires pour encoder égalemnent des informations liées aux contenus (descriptions des produits ou des utilisateurs).\n",
        "\n",
        "Dans les données fournies, les jeux contiennent un ou plusieurs *genres* et une *catégorie d'age*. Au niveau pre-processing, il faut identifier les catégories et les rattacher aux bonnes lignes. Il faut ensuite implémenter une nouvelle fonction de cout pour tirer parti de ces informations.\n",
        "\n",
        "**Note:** il n'y a pas d'information sur les utilisateurs dans ce jeu de données."
      ]
    },
    {
      "cell_type": "code",
      "execution_count": null,
      "metadata": {},
      "outputs": [],
      "source": []
    },
    {
      "cell_type": "code",
      "execution_count": 250,
      "metadata": {
        "id": "uliSghei0B9B"
      },
      "outputs": [],
      "source": [
        "### <CORRECTION> ###\n",
        "import re\n",
        "# transformation de cet énoncé en version étudiante\n",
        "\n",
        "fname = \"3_2-reco-triplet-corr.ipynb\" # ce fichier\n",
        "fout  = fname.replace(\"-corr\",\"\")\n",
        "\n",
        "# print(\"Fichier de sortie: \", fout )\n",
        "\n",
        "f = open(fname, \"r\")\n",
        "txt = f.read()\n",
        " \n",
        "f.close()\n",
        "\n",
        "\n",
        "f2 = open(fout, \"w\")\n",
        "f2.write(re.sub(\"<CORRECTION>.*?(</CORRECTION>)\",\" TODO \",\\\n",
        "    txt, flags=re.DOTALL))\n",
        "f2.close()\n",
        "\n",
        "### </CORRECTION> ###"
      ]
    },
    {
      "cell_type": "code",
      "execution_count": null,
      "metadata": {},
      "outputs": [],
      "source": []
    }
  ],
  "metadata": {
    "colab": {
      "provenance": []
    },
    "kernelspec": {
      "display_name": "Python 3",
      "name": "python3"
    },
    "language_info": {
      "codemirror_mode": {
        "name": "ipython",
        "version": 3
      },
      "file_extension": ".py",
      "mimetype": "text/x-python",
      "name": "python",
      "nbconvert_exporter": "python",
      "pygments_lexer": "ipython3",
      "version": "3.10.13"
    }
  },
  "nbformat": 4,
  "nbformat_minor": 0
}
